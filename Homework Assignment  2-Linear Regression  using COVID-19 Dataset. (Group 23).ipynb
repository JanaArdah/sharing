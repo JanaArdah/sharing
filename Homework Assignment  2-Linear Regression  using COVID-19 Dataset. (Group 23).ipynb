{
 "cells": [
  {
   "cell_type": "markdown",
   "id": "2e80e5cc",
   "metadata": {},
   "source": [
    "# Linear Regression using COVID-19 Dataset. (Group 23)"
   ]
  },
  {
   "cell_type": "code",
   "execution_count": 83,
   "id": "4e928a00",
   "metadata": {},
   "outputs": [],
   "source": [
    "import numpy as np\n",
    "import pandas as pd\n",
    "import matplotlib.pyplot as plt\n",
    "import statsmodels.formula.api as smapi\n",
    "from sklearn import linear_model\n",
    "from sklearn.linear_model import LinearRegression\n"
   ]
  },
  {
   "cell_type": "code",
   "execution_count": 84,
   "id": "368afd8a",
   "metadata": {},
   "outputs": [],
   "source": [
    "# 1.Download and import the data COVID-19 Data.csv (89 data points)"
   ]
  },
  {
   "cell_type": "code",
   "execution_count": 85,
   "id": "2254145d",
   "metadata": {},
   "outputs": [],
   "source": [
    "Dataset=pd.read_csv(\"C:/Users/user/Desktop/Hazim/Python/COVID-19_Data.csv\")"
   ]
  },
  {
   "cell_type": "code",
   "execution_count": 86,
   "id": "01ce68a1",
   "metadata": {},
   "outputs": [
    {
     "data": {
      "text/html": [
       "<div>\n",
       "<style scoped>\n",
       "    .dataframe tbody tr th:only-of-type {\n",
       "        vertical-align: middle;\n",
       "    }\n",
       "\n",
       "    .dataframe tbody tr th {\n",
       "        vertical-align: top;\n",
       "    }\n",
       "\n",
       "    .dataframe thead th {\n",
       "        text-align: right;\n",
       "    }\n",
       "</style>\n",
       "<table border=\"1\" class=\"dataframe\">\n",
       "  <thead>\n",
       "    <tr style=\"text-align: right;\">\n",
       "      <th></th>\n",
       "      <th>Tests</th>\n",
       "      <th>Cases</th>\n",
       "    </tr>\n",
       "  </thead>\n",
       "  <tbody>\n",
       "    <tr>\n",
       "      <th>0</th>\n",
       "      <td>1.0</td>\n",
       "      <td>0.0</td>\n",
       "    </tr>\n",
       "    <tr>\n",
       "      <th>1</th>\n",
       "      <td>2431.0</td>\n",
       "      <td>705.0</td>\n",
       "    </tr>\n",
       "    <tr>\n",
       "      <th>2</th>\n",
       "      <td>4098.0</td>\n",
       "      <td>772.0</td>\n",
       "    </tr>\n",
       "    <tr>\n",
       "      <th>3</th>\n",
       "      <td>17.0</td>\n",
       "      <td>1.0</td>\n",
       "    </tr>\n",
       "    <tr>\n",
       "      <th>4</th>\n",
       "      <td>18.0</td>\n",
       "      <td>3.0</td>\n",
       "    </tr>\n",
       "  </tbody>\n",
       "</table>\n",
       "</div>"
      ],
      "text/plain": [
       "    Tests  Cases\n",
       "0     1.0    0.0\n",
       "1  2431.0  705.0\n",
       "2  4098.0  772.0\n",
       "3    17.0    1.0\n",
       "4    18.0    3.0"
      ]
     },
     "execution_count": 86,
     "metadata": {},
     "output_type": "execute_result"
    }
   ],
   "source": [
    "Dataset.head()"
   ]
  },
  {
   "cell_type": "code",
   "execution_count": 87,
   "id": "f2e6fc23",
   "metadata": {},
   "outputs": [
    {
     "data": {
      "text/plain": [
       "(89, 2)"
      ]
     },
     "execution_count": 87,
     "metadata": {},
     "output_type": "execute_result"
    }
   ],
   "source": [
    "Dataset.shape"
   ]
  },
  {
   "cell_type": "code",
   "execution_count": 88,
   "id": "bffea3ac",
   "metadata": {},
   "outputs": [
    {
     "data": {
      "text/html": [
       "<div>\n",
       "<style scoped>\n",
       "    .dataframe tbody tr th:only-of-type {\n",
       "        vertical-align: middle;\n",
       "    }\n",
       "\n",
       "    .dataframe tbody tr th {\n",
       "        vertical-align: top;\n",
       "    }\n",
       "\n",
       "    .dataframe thead th {\n",
       "        text-align: right;\n",
       "    }\n",
       "</style>\n",
       "<table border=\"1\" class=\"dataframe\">\n",
       "  <thead>\n",
       "    <tr style=\"text-align: right;\">\n",
       "      <th></th>\n",
       "      <th>Tests</th>\n",
       "      <th>Cases</th>\n",
       "    </tr>\n",
       "  </thead>\n",
       "  <tbody>\n",
       "    <tr>\n",
       "      <th>count</th>\n",
       "      <td>89.00000</td>\n",
       "      <td>89.000000</td>\n",
       "    </tr>\n",
       "    <tr>\n",
       "      <th>mean</th>\n",
       "      <td>2165.47191</td>\n",
       "      <td>499.955056</td>\n",
       "    </tr>\n",
       "    <tr>\n",
       "      <th>std</th>\n",
       "      <td>1735.84995</td>\n",
       "      <td>365.764266</td>\n",
       "    </tr>\n",
       "    <tr>\n",
       "      <th>min</th>\n",
       "      <td>1.00000</td>\n",
       "      <td>0.000000</td>\n",
       "    </tr>\n",
       "    <tr>\n",
       "      <th>25%</th>\n",
       "      <td>801.00000</td>\n",
       "      <td>169.000000</td>\n",
       "    </tr>\n",
       "    <tr>\n",
       "      <th>50%</th>\n",
       "      <td>1645.00000</td>\n",
       "      <td>460.000000</td>\n",
       "    </tr>\n",
       "    <tr>\n",
       "      <th>75%</th>\n",
       "      <td>3818.00000</td>\n",
       "      <td>768.000000</td>\n",
       "    </tr>\n",
       "    <tr>\n",
       "      <th>max</th>\n",
       "      <td>5971.00000</td>\n",
       "      <td>1285.000000</td>\n",
       "    </tr>\n",
       "  </tbody>\n",
       "</table>\n",
       "</div>"
      ],
      "text/plain": [
       "            Tests        Cases\n",
       "count    89.00000    89.000000\n",
       "mean   2165.47191   499.955056\n",
       "std    1735.84995   365.764266\n",
       "min       1.00000     0.000000\n",
       "25%     801.00000   169.000000\n",
       "50%    1645.00000   460.000000\n",
       "75%    3818.00000   768.000000\n",
       "max    5971.00000  1285.000000"
      ]
     },
     "execution_count": 88,
     "metadata": {},
     "output_type": "execute_result"
    }
   ],
   "source": [
    "Dataset.describe()"
   ]
  },
  {
   "cell_type": "code",
   "execution_count": 89,
   "id": "576c7e21",
   "metadata": {},
   "outputs": [],
   "source": [
    "# 2. Divide the data into a dependent feature X: number of tests and a target variable Y: number of cases."
   ]
  },
  {
   "cell_type": "code",
   "execution_count": 90,
   "id": "ead3a016",
   "metadata": {},
   "outputs": [],
   "source": [
    "X=Dataset.iloc[:,0]\n",
    "Y=Dataset.iloc[:,1]"
   ]
  },
  {
   "cell_type": "code",
   "execution_count": 91,
   "id": "32f7085e",
   "metadata": {},
   "outputs": [
    {
     "data": {
      "text/plain": [
       "0       1.0\n",
       "1    2431.0\n",
       "2    4098.0\n",
       "3      17.0\n",
       "4      18.0\n",
       "Name: Tests, dtype: float64"
      ]
     },
     "execution_count": 91,
     "metadata": {},
     "output_type": "execute_result"
    }
   ],
   "source": [
    "X.head()"
   ]
  },
  {
   "cell_type": "code",
   "execution_count": 92,
   "id": "ae2a1c71",
   "metadata": {},
   "outputs": [
    {
     "data": {
      "text/plain": [
       "0      0.0\n",
       "1    705.0\n",
       "2    772.0\n",
       "3      1.0\n",
       "4      3.0\n",
       "Name: Cases, dtype: float64"
      ]
     },
     "execution_count": 92,
     "metadata": {},
     "output_type": "execute_result"
    }
   ],
   "source": [
    "Y.head()"
   ]
  },
  {
   "cell_type": "code",
   "execution_count": 93,
   "id": "d12b3e65",
   "metadata": {},
   "outputs": [],
   "source": [
    "# 3. Compute the correlation coefficient between the two variables. Comment on the result."
   ]
  },
  {
   "cell_type": "code",
   "execution_count": 94,
   "id": "3260ac99",
   "metadata": {},
   "outputs": [
    {
     "data": {
      "text/html": [
       "<div>\n",
       "<style scoped>\n",
       "    .dataframe tbody tr th:only-of-type {\n",
       "        vertical-align: middle;\n",
       "    }\n",
       "\n",
       "    .dataframe tbody tr th {\n",
       "        vertical-align: top;\n",
       "    }\n",
       "\n",
       "    .dataframe thead th {\n",
       "        text-align: right;\n",
       "    }\n",
       "</style>\n",
       "<table border=\"1\" class=\"dataframe\">\n",
       "  <thead>\n",
       "    <tr style=\"text-align: right;\">\n",
       "      <th></th>\n",
       "      <th>Tests</th>\n",
       "      <th>Cases</th>\n",
       "    </tr>\n",
       "  </thead>\n",
       "  <tbody>\n",
       "    <tr>\n",
       "      <th>Tests</th>\n",
       "      <td>1.000000</td>\n",
       "      <td>0.881408</td>\n",
       "    </tr>\n",
       "    <tr>\n",
       "      <th>Cases</th>\n",
       "      <td>0.881408</td>\n",
       "      <td>1.000000</td>\n",
       "    </tr>\n",
       "  </tbody>\n",
       "</table>\n",
       "</div>"
      ],
      "text/plain": [
       "          Tests     Cases\n",
       "Tests  1.000000  0.881408\n",
       "Cases  0.881408  1.000000"
      ]
     },
     "execution_count": 94,
     "metadata": {},
     "output_type": "execute_result"
    }
   ],
   "source": [
    "Dataset.corr()"
   ]
  },
  {
   "cell_type": "code",
   "execution_count": 95,
   "id": "1f0d9546",
   "metadata": {},
   "outputs": [
    {
     "name": "stdout",
     "output_type": "stream",
     "text": [
      "The Correlation Cofficient =  0.881  Comment : The independent and dependent variables are strongly positive correlated.\n"
     ]
    }
   ],
   "source": [
    "R=np.corrcoef(X,Y)[0,1]\n",
    "\n",
    "print(\"The Correlation Cofficient = \", round(R,3), \" Comment : The independent and dependent variables are strongly positive correlated.\")"
   ]
  },
  {
   "cell_type": "code",
   "execution_count": 96,
   "id": "dd6a0276",
   "metadata": {},
   "outputs": [],
   "source": [
    "# 4. Fit the model using linear regression and display w0 and w1."
   ]
  },
  {
   "cell_type": "code",
   "execution_count": 97,
   "id": "0752bf1c",
   "metadata": {},
   "outputs": [
    {
     "name": "stdout",
     "output_type": "stream",
     "text": [
      "The intercept is 97.77688905214211 the coffeicent is [0.18572311]\n"
     ]
    }
   ],
   "source": [
    "LR=LinearRegression()\n",
    "XL=np.array(X).reshape(-1,1) \n",
    "YL=np.array(Y)                \n",
    "LR.fit(XL,YL)\n",
    "w0=LR.intercept_\n",
    "w1=LR.coef_\n",
    "print(\"The intercept is\" , w0, \"the coffeicent is\" ,w1)"
   ]
  },
  {
   "cell_type": "code",
   "execution_count": 98,
   "id": "7feec183",
   "metadata": {},
   "outputs": [],
   "source": [
    "# 5. Plot the scatter of points along with the linear model."
   ]
  },
  {
   "cell_type": "code",
   "execution_count": 99,
   "id": "2b4596f6",
   "metadata": {},
   "outputs": [
    {
     "data": {
      "text/plain": [
       "<function matplotlib.pyplot.show(close=None, block=None)>"
      ]
     },
     "execution_count": 99,
     "metadata": {},
     "output_type": "execute_result"
    },
    {
     "data": {
      "image/png": "[encoded data removed]",
      "text/plain": [
       "<Figure size 432x288 with 1 Axes>"
      ]
     },
     "metadata": {
      "needs_background": "light"
     },
     "output_type": "display_data"
    }
   ],
   "source": [
    "Dataset.plot(kind='scatter',x='Tests',y='Cases')\n",
    "plt.title(\"COVID-19-Dataset\")\n",
    "plt.xlabel(\"# of Tests perfomed daily\")\n",
    "plt.ylabel(\"# of Cases detected\")\n",
    "plt.plot(XL, w1*XL+w0)\n",
    "plt.show"
   ]
  },
  {
   "cell_type": "code",
   "execution_count": 100,
   "id": "732ab139",
   "metadata": {},
   "outputs": [],
   "source": [
    "# 6. Normalize the data to reduce the largest eigenvalue of the quadratic problem and then run the same experiment."
   ]
  },
  {
   "cell_type": "code",
   "execution_count": 101,
   "id": "42b6fe31",
   "metadata": {},
   "outputs": [
    {
     "data": {
      "text/html": [
       "<div>\n",
       "<style scoped>\n",
       "    .dataframe tbody tr th:only-of-type {\n",
       "        vertical-align: middle;\n",
       "    }\n",
       "\n",
       "    .dataframe tbody tr th {\n",
       "        vertical-align: top;\n",
       "    }\n",
       "\n",
       "    .dataframe thead th {\n",
       "        text-align: right;\n",
       "    }\n",
       "</style>\n",
       "<table border=\"1\" class=\"dataframe\">\n",
       "  <thead>\n",
       "    <tr style=\"text-align: right;\">\n",
       "      <th></th>\n",
       "      <th>Tests</th>\n",
       "      <th>Cases</th>\n",
       "    </tr>\n",
       "  </thead>\n",
       "  <tbody>\n",
       "    <tr>\n",
       "      <th>0</th>\n",
       "      <td>0.000000</td>\n",
       "      <td>0.000000</td>\n",
       "    </tr>\n",
       "    <tr>\n",
       "      <th>1</th>\n",
       "      <td>0.407035</td>\n",
       "      <td>0.548638</td>\n",
       "    </tr>\n",
       "    <tr>\n",
       "      <th>2</th>\n",
       "      <td>0.686265</td>\n",
       "      <td>0.600778</td>\n",
       "    </tr>\n",
       "    <tr>\n",
       "      <th>3</th>\n",
       "      <td>0.002680</td>\n",
       "      <td>0.000778</td>\n",
       "    </tr>\n",
       "    <tr>\n",
       "      <th>4</th>\n",
       "      <td>0.002848</td>\n",
       "      <td>0.002335</td>\n",
       "    </tr>\n",
       "  </tbody>\n",
       "</table>\n",
       "</div>"
      ],
      "text/plain": [
       "      Tests     Cases\n",
       "0  0.000000  0.000000\n",
       "1  0.407035  0.548638\n",
       "2  0.686265  0.600778\n",
       "3  0.002680  0.000778\n",
       "4  0.002848  0.002335"
      ]
     },
     "execution_count": 101,
     "metadata": {},
     "output_type": "execute_result"
    }
   ],
   "source": [
    "from sklearn import preprocessing\n",
    "scaler = preprocessing.MinMaxScaler()\n",
    "names = data.columns\n",
    "d = scaler.fit_transform(data)\n",
    "scaled_df = pd.DataFrame(d, columns=names)\n",
    "scaled_df.head()"
   ]
  },
  {
   "cell_type": "code",
   "execution_count": 105,
   "id": "83a5b464",
   "metadata": {},
   "outputs": [
    {
     "name": "stdout",
     "output_type": "stream",
     "text": [
      "The intercept is 0.076 the coffeicent is [0.86285365]\n"
     ]
    }
   ],
   "source": [
    "XN=scaled_df.iloc[:,0]\n",
    "YN=scaled_df.iloc[:,1]\n",
    "LR=LinearRegression()\n",
    "X=np.array(XN).reshape(-1,1) \n",
    "Y=np.array(YN)                \n",
    "LR.fit(X,Y)\n",
    "w0N=LR.intercept_\n",
    "w1N=LR.coef_\n",
    "print(\"The intercept is\" , round(w0N,3), \"the coffeicent is\" , w1N)"
   ]
  },
  {
   "cell_type": "code",
   "execution_count": 106,
   "id": "f4a6330c",
   "metadata": {},
   "outputs": [
    {
     "name": "stdout",
     "output_type": "stream",
     "text": [
      "The Correlation Cofficient =  0.881  The independent and dependent variables are strongly positive correlated.\n"
     ]
    }
   ],
   "source": [
    "RN=np.corrcoef(XN,YN)[0,1]\n",
    "\n",
    "print(\"The Correlation Cofficient = \", round(RN,3), \" The independent and dependent variables are strongly positive correlated.\")"
   ]
  },
  {
   "cell_type": "code",
   "execution_count": 107,
   "id": "1659729e",
   "metadata": {},
   "outputs": [
    {
     "data": {
      "text/plain": [
       "<function matplotlib.pyplot.show(close=None, block=None)>"
      ]
     },
     "execution_count": 107,
     "metadata": {},
     "output_type": "execute_result"
    },
    {
     "data": {
      "image/png": "[encoded data removed]",
      "text/plain": [
       "<Figure size 432x288 with 1 Axes>"
      ]
     },
     "metadata": {
      "needs_background": "light"
     },
     "output_type": "display_data"
    }
   ],
   "source": [
    "scaled_df.plot(kind='scatter',x='Tests',y='Cases')\n",
    "plt.title(\"COVID-19-Dataset\")\n",
    "plt.xlabel(\"# of Tests perfomed daily\")\n",
    "plt.ylabel(\"# of Cases detected\")\n",
    "plt.plot(XN, w1N*XN+w0N)\n",
    "plt.show"
   ]
  },
  {
   "cell_type": "code",
   "execution_count": null,
   "id": "7812ad34",
   "metadata": {},
   "outputs": [],
   "source": [
    "#.7 Compare the results of the two models. "
   ]
  },
  {
   "cell_type": "code",
   "execution_count": null,
   "id": "3b4fd4a6",
   "metadata": {},
   "outputs": [],
   "source": [
    "Before normalizing, the data Correlation Cofficient was 0.881 and remaind the same after normalizing, where it can indicate that the independent and dependent variables are strongly positive correlated. however, the Bias and weight parameters before and after normalizing have been changed with the change of the range \"i.e between 0-1\". the results are shown above. "
   ]
  }
 ],
 "metadata": {
  "kernelspec": {
   "display_name": "Python 3",
   "language": "python",
   "name": "python3"
  },
  "language_info": {
   "codemirror_mode": {
    "name": "ipython",
    "version": 3
   },
   "file_extension": ".py",
   "mimetype": "text/x-python",
   "name": "python",
   "nbconvert_exporter": "python",
   "pygments_lexer": "ipython3",
   "version": "3.8.8"
  }
 },
 "nbformat": 4,
 "nbformat_minor": 5
}
