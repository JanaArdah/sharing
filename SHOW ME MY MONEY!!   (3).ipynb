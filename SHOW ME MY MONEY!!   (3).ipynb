{
 "cells": [
  {
   "cell_type": "markdown",
   "id": "176eff76",
   "metadata": {
    "editable": false
   },
   "source": [
    "# Project of : SHOW ME MY MONEY!!"
   ]
  },
  {
   "cell_type": "code",
   "execution_count": 1,
   "id": "ecee0a82",
   "metadata": {},
   "outputs": [],
   "source": [
    "## To start the program: open the above \"kernel\" then click \"Restart and Run all\"\n",
    "## Then the programm will ask you to enter data.\n",
    "## finally scroll down to see your results."
   ]
  },
  {
   "cell_type": "code",
   "execution_count": 2,
   "id": "e2dafe8c",
   "metadata": {
    "deletable": false,
    "editable": false
   },
   "outputs": [],
   "source": [
    "import numpy as np\n",
    "from math import sqrt\n",
    "import pandas as pd\n",
    "from datetime import date, timedelta,datetime\n",
    "from dateutil import parser\n",
    "import colorama \n",
    "from colorama import Fore,Back, Style"
   ]
  },
  {
   "cell_type": "markdown",
   "id": "9ffcb520",
   "metadata": {
    "deletable": false,
    "editable": false
   },
   "source": [
    "# Entiring Yours Inputs:"
   ]
  },
  {
   "cell_type": "code",
   "execution_count": null,
   "id": "a7259cf1",
   "metadata": {
    "deletable": false,
    "editable": false
   },
   "outputs": [],
   "source": [
    "num1=float(input('please enter num1, then press: ctrl+enter '))\n",
    "num2=float(input('please enter num2: then press ctrl+enter'))\n",
    "num3=float(input('please enter num3: then press ctrl+enter'))\n",
    "num4=float(input('please enter num4: then press ctrl+enter'))\n",
    "num5=float(input('please enter num5: then press ctrl+enter'))\n",
    "num6=float(input('please enter num6: then press ctrl+enter'))\n",
    "num7=float(input('please enter num7: then press ctrl+enter '))\n",
    "num7=float(input('please enter num7: then press ctrl+enter'))\n",
    "num8=float(input('please enter num8: then press ctrl+enter'))\n",
    "num9=float(input('please enter num9: then press ctrl+enter'))\n",
    "num10=float(input('please enter num10: then press ctrl+enter'))"
   ]
  },
  {
   "cell_type": "code",
   "execution_count": null,
   "id": "0089be62",
   "metadata": {
    "deletable": false,
    "editable": false
   },
   "outputs": [],
   "source": [
    "start_date=str(input(' enter the start date(yyyy-mm-dd): then press ctrl+enter '))\n",
    "now=pd.to_datetime('today').normalize()\n",
    "\n",
    "startdate_list = pd.date_range(start_date, now).tolist()\n",
    "#print(start_date)\n",
    "#print(type(start_date))\n"
   ]
  },
  {
   "cell_type": "code",
   "execution_count": null,
   "id": "adf77282",
   "metadata": {
    "deletable": false,
    "editable": false
   },
   "outputs": [],
   "source": [
    "retreive_numbers = []\n",
    "\n",
    "for _ in range(30):\n",
    "    num=int(input('please enter the retreive numbers,then press ctrl+enter,or 9999 to quit,then press ctrl+enter  '))  \n",
    "    if num == 9999:\n",
    "        break\n",
    "    elif num!=9999:\n",
    "        num = str(num).zfill(3)\n",
    "        num=int(num)\n",
    "        retreive_numbers.append(num)   \n",
    "\n"
   ]
  },
  {
   "cell_type": "code",
   "execution_count": null,
   "id": "281ea187",
   "metadata": {
    "deletable": false,
    "editable": false,
    "scrolled": true
   },
   "outputs": [],
   "source": [
    "start_dt = (input(' enter the start date of the future dates(yyyy-mm-dd):  then press ctrl+enter'))\n",
    "end_dt = (input(' enter the end date of the future dates(yyyy-mm-dd):  then press ctrl+enter'))\n",
    "start_dt_object = datetime.strptime(start_dt, \"%Y-%m-%d\")\n",
    "end_dt_object = datetime.strptime(end_dt, \"%Y-%m-%d\")\n",
    "\n",
    "\n",
    "delta = timedelta(days=1)\n",
    "\n",
    "\n",
    "dates_list = []\n",
    "\n",
    "while start_dt_object <= end_dt_object:\n",
    "    \n",
    "    dates_list.append(start_dt_object.isoformat())\n",
    "    \n",
    "    start_dt_object += delta\n"
   ]
  },
  {
   "cell_type": "markdown",
   "id": "96772874",
   "metadata": {
    "deletable": false,
    "editable": false
   },
   "source": [
    "# ANALYSIS:"
   ]
  },
  {
   "cell_type": "code",
   "execution_count": null,
   "id": "460beb57",
   "metadata": {
    "deletable": false,
    "editable": false
   },
   "outputs": [],
   "source": [
    "number=num1\n",
    "square_root1=float(\"{0:.7f}\".format(sqrt(num1)))\n",
    "number1=[num1,square_root1]\n",
    "number_1=[]\n",
    "\n",
    "for number in number1:\n",
    "    number=round(number+square_root1)\n",
    "    if number<=999:\n",
    "        number1.append(number)\n",
    "        #number = str(number).zfill(3)\n",
    "        number_1.append(number)\n",
    "            \n",
    "number=num1\n",
    "square_root1=float(\"{0:.7f}\".format(sqrt(num1)))\n",
    "number2=[num1]\n",
    "number_2=[]\n",
    "\n",
    "for number in number2:\n",
    "    number=round(number-square_root1)\n",
    "    if number>=0:\n",
    "        number2.append(number)\n",
    "        #number = str(number).zfill(3)\n",
    "        number_2.append(number)\n",
    "        \n",
    "X1=number_1+number_2\n"
   ]
  },
  {
   "cell_type": "code",
   "execution_count": null,
   "id": "79bce474",
   "metadata": {
    "deletable": false,
    "editable": false
   },
   "outputs": [],
   "source": [
    "number=num2\n",
    "square_root2=float(\"{0:.7f}\".format(sqrt(num2)))\n",
    "number3=[num2,square_root2]\n",
    "number_3=[]\n",
    "\n",
    "for number in number3:\n",
    "    number=round(number+square_root2)\n",
    "    if number<=999:\n",
    "        number3.append(number)\n",
    "        #number = str(number).zfill(3)\n",
    "        number_3.append(number)\n",
    "            \n",
    "number=num2\n",
    "square_root2=float(\"{0:.7f}\".format(sqrt(num2)))\n",
    "number4=[num2]\n",
    "number_4=[]\n",
    "\n",
    "for number in number3:\n",
    "    number=round(number-square_root2)\n",
    "    if number>=0:\n",
    "        number4.append(number)\n",
    "        #number = str(number).zfill(3)\n",
    "        number_4.append(number)\n",
    "        \n",
    "X2=number_3+number_4\n"
   ]
  },
  {
   "cell_type": "code",
   "execution_count": null,
   "id": "a90699f7",
   "metadata": {
    "deletable": false,
    "editable": false
   },
   "outputs": [],
   "source": [
    "number=num3\n",
    "square_root3=float(\"{0:.7f}\".format(sqrt(num3)))\n",
    "number5=[num3,square_root3]\n",
    "number_5=[]\n",
    "\n",
    "for number in number5:\n",
    "    number=round(number+square_root3)\n",
    "    if number<=999:\n",
    "        number5.append(number)\n",
    "        #number = str(number).zfill(3)\n",
    "        number_5.append(number)\n",
    "            \n",
    "number=num3\n",
    "square_root3=float(\"{0:.7f}\".format(sqrt(num3)))\n",
    "number6=[num3]\n",
    "number_6=[]\n",
    "\n",
    "for number in number6:\n",
    "    number=round(number-square_root3)\n",
    "    if number>=0:\n",
    "        number6.append(number)\n",
    "        #number = str(number).zfill(3)\n",
    "        number_6.append(number)\n",
    "        \n",
    "X3=number_5+number_6\n"
   ]
  },
  {
   "cell_type": "code",
   "execution_count": null,
   "id": "5bb2fae4",
   "metadata": {
    "deletable": false,
    "editable": false
   },
   "outputs": [],
   "source": [
    "number=num4\n",
    "square_root4=float(\"{0:.7f}\".format(sqrt(num4)))\n",
    "number7=[num4,square_root4]\n",
    "number_7=[]\n",
    "\n",
    "for number in number7:\n",
    "    number=round(number+square_root4)\n",
    "    if number<=999:\n",
    "        number7.append(number)\n",
    "        #number = str(number).zfill(3)\n",
    "        number_7.append(number)\n",
    "            \n",
    "number=num4\n",
    "square_root4=float(\"{0:.7f}\".format(sqrt(num4)))\n",
    "number8=[num4]\n",
    "number_8=[]\n",
    "\n",
    "for number in number8:\n",
    "    number=round(number-square_root4)\n",
    "    if number>=0:\n",
    "        number8.append(number)\n",
    "        #number = str(number).zfill(3)\n",
    "        number_8.append(number)\n",
    "        \n",
    "X4=number_7+number_8 "
   ]
  },
  {
   "cell_type": "code",
   "execution_count": null,
   "id": "141829d7",
   "metadata": {
    "deletable": false,
    "editable": false
   },
   "outputs": [],
   "source": [
    "number=num5\n",
    "square_root5=float(\"{0:.7f}\".format(sqrt(num5)))\n",
    "number9=[num5,square_root5]\n",
    "number_9=[]\n",
    "\n",
    "for number in number9:\n",
    "    number=round(number+square_root5)\n",
    "    if number<=999:\n",
    "        number9.append(number)\n",
    "        #number = str(number).zfill(3)\n",
    "        number_9.append(number)\n",
    "            \n",
    "number=num5\n",
    "square_root5=float(\"{0:.7f}\".format(sqrt(num5)))\n",
    "number10=[num5]\n",
    "number_10=[]\n",
    "\n",
    "for number in number10:\n",
    "    number=round(number-square_root5)\n",
    "    if number>=0:\n",
    "        number10.append(number)\n",
    "        #number = str(number).zfill(3)\n",
    "        number_10.append(number)\n",
    "        \n",
    "X5=number_9+number_10 "
   ]
  },
  {
   "cell_type": "code",
   "execution_count": null,
   "id": "25d38beb",
   "metadata": {
    "deletable": false,
    "editable": false
   },
   "outputs": [],
   "source": [
    "number=num6\n",
    "square_root6=float(\"{0:.7f}\".format(sqrt(num6)))\n",
    "number11=[num6,square_root6]\n",
    "number_11=[]\n",
    "\n",
    "for number in number11:\n",
    "    number=round(number+square_root6)\n",
    "    if number<=999:\n",
    "        number11.append(number)\n",
    "        #number = str(number).zfill(3)\n",
    "        number_11.append(number)\n",
    "            \n",
    "number=num6\n",
    "square_root6=float(\"{0:.7f}\".format(sqrt(num6)))\n",
    "number12=[num6]\n",
    "number_12=[]\n",
    "\n",
    "for number in number12:\n",
    "    number=round(number-square_root6)\n",
    "    if number>=0:\n",
    "        number12.append(number)\n",
    "        #number = str(number).zfill(3)\n",
    "        number_12.append(number)\n",
    "        \n",
    "X6=number_11+number_12"
   ]
  },
  {
   "cell_type": "code",
   "execution_count": null,
   "id": "3f7165a6",
   "metadata": {
    "deletable": false,
    "editable": false
   },
   "outputs": [],
   "source": [
    "number=num7\n",
    "square_root7=float(\"{0:.7f}\".format(sqrt(num7)))\n",
    "number13=[num7,square_root7]\n",
    "number_13=[]\n",
    "\n",
    "for number in number13:\n",
    "    number=round(number+square_root7)\n",
    "    if number<=999:\n",
    "        number13.append(number)\n",
    "        #number = str(number).zfill(3)\n",
    "        number_13.append(number)\n",
    "            \n",
    "number=num7\n",
    "square_root7=float(\"{0:.7f}\".format(sqrt(num7)))\n",
    "number14=[num7]\n",
    "number_14=[]\n",
    "\n",
    "for number in number14:\n",
    "    number=round(number-square_root7)\n",
    "    if number>=0:\n",
    "        number14.append(number)\n",
    "        #number = str(number).zfill(3)\n",
    "        number_14.append(number)\n",
    "        \n",
    "X7=number_13+number_14"
   ]
  },
  {
   "cell_type": "code",
   "execution_count": null,
   "id": "f714de23",
   "metadata": {
    "deletable": false,
    "editable": false
   },
   "outputs": [],
   "source": [
    "number=num8\n",
    "square_root8=float(\"{0:.7f}\".format(sqrt(num8)))\n",
    "number15=[num8,square_root8]\n",
    "number_15=[]\n",
    "\n",
    "for number in number15:\n",
    "    number=round(number+square_root8)\n",
    "    if number<=999:\n",
    "        number15.append(number)\n",
    "        #number = str(number).zfill(3)\n",
    "        number_15.append(number)\n",
    "            \n",
    "number=num8\n",
    "square_root8=float(\"{0:.7f}\".format(sqrt(num8)))\n",
    "number16=[num8]\n",
    "number_16=[]\n",
    "\n",
    "for number in number16:\n",
    "    number=round(number-square_root8)\n",
    "    if number>=0:\n",
    "        number16.append(number)\n",
    "        #number = str(number).zfill(3)\n",
    "        number_16.append(number)\n",
    "        \n",
    "X8=number_15+number_16\n",
    "  "
   ]
  },
  {
   "cell_type": "code",
   "execution_count": null,
   "id": "261a934e",
   "metadata": {
    "deletable": false,
    "editable": false
   },
   "outputs": [],
   "source": [
    "number=num9\n",
    "square_root9=float(\"{0:.7f}\".format(sqrt(num9)))\n",
    "number17=[num9,square_root9]\n",
    "number_17=[]\n",
    "\n",
    "for number in number17:\n",
    "    number=round(number+square_root9)\n",
    "    if number<=999:\n",
    "        number17.append(number)\n",
    "        #number = str(number).zfill(3)\n",
    "        number_17.append(number)\n",
    "            \n",
    "number=num9\n",
    "square_root9=float(\"{0:.7f}\".format(sqrt(num9)))\n",
    "number18=[num9]\n",
    "number_18=[]\n",
    "\n",
    "for number in number18:\n",
    "    number=round(number-square_root9)\n",
    "    if number>=0:\n",
    "        number18.append(number)\n",
    "        #number = str(number).zfill(3)\n",
    "        number_18.append(number)\n",
    "        \n",
    "X9=number_17+number_18 "
   ]
  },
  {
   "cell_type": "code",
   "execution_count": null,
   "id": "521592a1",
   "metadata": {
    "deletable": false,
    "editable": false
   },
   "outputs": [],
   "source": [
    "number=num10\n",
    "square_root10=float(\"{0:.7f}\".format(sqrt(num10)))\n",
    "number19=[num10,square_root10]\n",
    "number_19=[]\n",
    "\n",
    "for number in number19:\n",
    "    number=round(number+square_root10)\n",
    "    if number<=999:\n",
    "        number19.append(number)\n",
    "        #number = str(number).zfill(3)\n",
    "        number_19.append(number)\n",
    "            \n",
    "number=num10\n",
    "square_root10=float(\"{0:.7f}\".format(sqrt(num10)))\n",
    "number20=[num10]\n",
    "number_20=[]\n",
    "\n",
    "for number in number20:\n",
    "    number=round(number-square_root10)\n",
    "    if number>=0:\n",
    "        number20.append(number)\n",
    "        #number = str(number).zfill(3)\n",
    "        number_20.append(number)\n",
    "        \n",
    "X10=number_19+number_20"
   ]
  },
  {
   "cell_type": "code",
   "execution_count": null,
   "id": "632a7781",
   "metadata": {
    "deletable": false,
    "editable": false
   },
   "outputs": [],
   "source": [
    "x1=list(set(retreive_numbers)&set(X1))\n",
    "x2=list(set(retreive_numbers) & set(X2))\n",
    "x3=list(set(retreive_numbers) & set(X3))\n",
    "x4=list(set(retreive_numbers) & set(X4))\n",
    "x5=list(set(retreive_numbers) & set(X5))\n",
    "x6=list(set(retreive_numbers) & set(X6))\n",
    "x7=list(set(retreive_numbers) & set(X7))\n",
    "x8=list(set(retreive_numbers) & set(X8))\n",
    "x9=list(set(retreive_numbers) & set(X9))\n",
    "x10=list(set(retreive_numbers) & set(X10))\n",
    "intersection_list={'X1':x1,'X2':x2,'X3':x3,'X4':x4,'X5':x5,'X6':x6,'X7':x7,'X8':x8,'X9':x9,'X10':x10}\n"
   ]
  },
  {
   "cell_type": "code",
   "execution_count": null,
   "id": "d7217bfd",
   "metadata": {
    "deletable": false,
    "editable": false
   },
   "outputs": [],
   "source": [
    "original_date = datetime.strptime(start_date, \"%Y-%m-%d\")\n",
    "future_date = datetime.strptime(start_dt, \"%Y-%m-%d\")\n",
    "diff = future_date.date() - original_date.date()\n",
    "#print('Difference between dates in days:')\n",
    "diff_dates=diff.days\n",
    "#print(diff_dates)\n",
    "span=len(dates_list)\n",
    "#print(span)\n",
    "#print(type(diff_dates))\n",
    "future_numbers=[]\n",
    "for x in range(diff_dates,(diff_dates+span)):\n",
    "    future_numbers.append(x)\n",
    "    \n",
    "#print(future_numbers)"
   ]
  },
  {
   "cell_type": "code",
   "execution_count": null,
   "id": "34c1ec4b",
   "metadata": {
    "deletable": false,
    "editable": false
   },
   "outputs": [],
   "source": [
    "y1=list(set(future_numbers)&set(X1))\n",
    "y2=list(set(future_numbers) & set(X2))\n",
    "y3=list(set(future_numbers) & set(X3))\n",
    "y4=list(set(future_numbers) & set(X4))\n",
    "y5=list(set(future_numbers) & set(X5))\n",
    "y6=list(set(future_numbers) & set(X6))\n",
    "y7=list(set(future_numbers) & set(X7))\n",
    "y8=list(set(future_numbers) & set(X8))\n",
    "y9=list(set(future_numbers) & set(X9))\n",
    "y10=list(set(future_numbers) & set(X10))\n",
    "matching_list={'X1':y1,'X2':y2,'X3':y3,'X4':y4,'X5':y5,'X6':y6,'X7':y7,'X8':y8,'X9':y9,'X10':y10}\n"
   ]
  },
  {
   "cell_type": "code",
   "execution_count": null,
   "id": "270a1082",
   "metadata": {
    "deletable": false,
    "editable": false
   },
   "outputs": [],
   "source": [
    "print('\\n')\n",
    "colorama.init(autoreset=True)\n",
    "print(\"Project Results\")\n",
    "print('The Matching COUNTING-DATES:')\n",
    "print('**Matching between starting_numbers and retreive_numbers**')\n",
    "print('\\n')\n",
    "for key, value in intersection_list.items():\n",
    "    print('\\n')\n",
    "    print(key, ' : ', value) \n",
    "print('\\n')\n",
    "print('NOTE: The X symbols represent the initial Ten_numbers')\n",
    "print('\\n')\n",
    "print('The Matching COUNTING-DATES:')\n",
    "print('**Matching between starting_numbers and future_dates**')\n",
    "print('\\n')\n",
    "for key, value in matching_list.items():\n",
    "    print('\\n')\n",
    "    print(key, ' : ', value)\n",
    "print('\\n')\n",
    "print('NOTE: The X symbols represent the initial Ten_numbers')"
   ]
  },
  {
   "cell_type": "markdown",
   "id": "c337e776",
   "metadata": {
    "deletable": false,
    "editable": false
   },
   "source": [
    "# RESULTS:"
   ]
  }
 ],
 "metadata": {
  "celltoolbar": "Edit Metadata",
  "kernelspec": {
   "display_name": "Python 3 (ipykernel)",
   "language": "python",
   "name": "python3"
  },
  "language_info": {
   "codemirror_mode": {
    "name": "ipython",
    "version": 3
   },
   "file_extension": ".py",
   "mimetype": "text/x-python",
   "name": "python",
   "nbconvert_exporter": "python",
   "pygments_lexer": "ipython3",
   "version": "3.9.13"
  }
 },
 "nbformat": 4,
 "nbformat_minor": 5
}
